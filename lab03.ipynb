{
  "cells": [
    {
      "cell_type": "markdown",
      "id": "a4dbeeed-1482-4055-871b-4d7a2c2a511e",
      "metadata": {},
      "source": [
        "# BEE 4750 Lab 3: Linear Programming with JuMP\n",
        "\n",
        "**Name**: Anthony Nicolaides\n",
        "\n",
        "**ID**: ajn68\n",
        "\n",
        "> **Due Date**\n",
        ">\n",
        "> Friday, 10/13/23, 9:00pm\n",
        "\n",
        "## Setup\n",
        "\n",
        "The following code should go at the top of most Julia scripts; it will\n",
        "load the local package environment and install any needed packages. You\n",
        "will see this often and shouldn’t need to touch it."
      ]
    },
    {
      "cell_type": "code",
      "execution_count": 1,
      "id": "e4a7ead8",
      "metadata": {},
      "outputs": [
        {
          "name": "stderr",
          "output_type": "stream",
          "text": [
            "\u001b[32m\u001b[1m  Activating\u001b[22m\u001b[39m project at `~/Documents/BEE4750/labs/lab03-anthonynic28`\n"
          ]
        }
      ],
      "source": [
        "import Pkg\n",
        "Pkg.activate(\".\")\n",
        "Pkg.instantiate()"
      ]
    },
    {
      "cell_type": "code",
      "execution_count": 2,
      "id": "bcb91547",
      "metadata": {},
      "outputs": [],
      "source": [
        "using JuMP # optimization modeling syntax\n",
        "using HiGHS # optimization solver\n",
        "using Plots # plotting"
      ]
    },
    {
      "cell_type": "markdown",
      "id": "e7c75237-e4a0-44dd-accc-3ba4b3a0b33e",
      "metadata": {},
      "source": [
        "## Overview\n",
        "\n",
        "In this lab, you will write and solve a resource allocation example\n",
        "using `JuMP.jl`. `JuMP.jl` provides an intuitive syntax for writing,\n",
        "solving, and querying optimization problems.\n",
        "\n",
        "For an example of using `JuMP.jl` to solve linear programs, see [the\n",
        "relevant tutorial on the class\n",
        "website](https://viveks.me/environmental-systems-analysis/tutorials/julia-jump.html).\n",
        "\n",
        "Free free to delete some of the illustrative cells and code blocks in\n",
        "your notebook as you go through and solve the lab problems…this might\n",
        "help reduce some potential confusion while grading about what your\n",
        "answer is."
      ]
    },
    {
      "cell_type": "markdown",
      "id": "b3357076-5bea-4fbb-a560-286b35fd52af",
      "metadata": {},
      "source": [
        "## Introduction\n",
        "\n",
        "Your task is to decide how much lumber to produce to maximize profit\n",
        "from wood sales. You can purchase wood from a managed forest, which\n",
        "consists of spruce (320,000 bf) and fir (720,000 bf). Spruce costs\n",
        "\\$0.12 per bf to purchase and fir costs \\$0.08 per bf.\n",
        "\n",
        "At the lumber mill, wood can be turned into plywood of various grades\n",
        "(see <a href=\"#tbl-inputs\" class=\"quarto-xref\">Table 1</a> for how much\n",
        "wood of each type is required for and the revenue from each grade). Any\n",
        "excess wood is sent to be recycled into particle board. This resource\n",
        "allocation problem is diagrammed in\n",
        "<a href=\"#fig-schematic\" class=\"quarto-xref\">Figure 1</a>.\n",
        "\n",
        "| Plywood Grade | Inputs (bf/bf plywood) | Revenue (\\$/1000 bf) |\n",
        "|:-------------:|:----------------------:|:--------------------:|\n",
        "|       1       |   0.5 (S) + 1.5 (F)    |         400          |\n",
        "|       2       |   1.0 (S) + 2.0 (F)    |         520          |\n",
        "|       3       |   1.5 (S) + 2.0 (F)    |         700          |\n",
        "\n",
        "Table 1: Wood inputs and revenue by plywood grade. S refers to spruce\n",
        "inputs, F fir inputs."
      ]
    },
    {
      "cell_type": "markdown",
      "id": "e64f4869-4c05-4097-9118-15c5583c58a3",
      "metadata": {},
      "source": [
        "<figure id=\"fig-schematic\">\n",
        "<img src=\"attachment:lab03_files/figure-ipynb/mermaid-figure-1.png\" />\n",
        "<figcaption>Figure 1: Flowchat of the resource allocation problem in\n",
        "this lab.</figcaption>\n",
        "</figure>\n",
        "\n",
        "## Problems (10 points)"
      ]
    },
    {
      "cell_type": "markdown",
      "id": "4909da23-bc65-4291-ac3a-b991ffd66163",
      "metadata": {},
      "source": [
        "### Problem 1: Problem Formulation (5 points)\n",
        "\n",
        "In this problem, you will go through the steps of formulating a linear\n",
        "program for this problem."
      ]
    },
    {
      "cell_type": "markdown",
      "id": "2071aef6-e8a9-4285-a5b9-59f65a25b5ac",
      "metadata": {},
      "source": [
        "#### Problem 1.1 (1 point)\n",
        "\n",
        "What are your decision variables? Clearly define your notation,\n",
        "including what variables you are using, what they mean, and what their\n",
        "units are."
      ]
    },
    {
      "cell_type": "markdown",
      "id": "a7e73907",
      "metadata": {},
      "source": [
        "\n",
        "|   Variable  |   Meaning                                            |  Units             |\n",
        "|:-----------:|:----------------------------------------------------:|:------------------:|\n",
        "|   P1        |   the amount of grade 1 plywood made from spruce and fir   |   1000 bf          |\n",
        "|   P2        |   the amount of grade 2 plywood made from spruce and fir   |   1000 bf          |\n",
        "|   P3        |   the amount of grade 3 plywood made from spruce and fir   |   1000 bf          |\n"
      ]
    },
    {
      "cell_type": "markdown",
      "id": "d314882c-8e58-4177-a740-676248d7106f",
      "metadata": {},
      "source": [
        "#### Problem 1.2 (1 point)\n",
        "\n",
        "Derive your objective function. Support your function with\n",
        "justifications and/or equations as necessary. You will not receive\n",
        "credit just for the function alone."
      ]
    },
    {
      "cell_type": "markdown",
      "id": "1c698b8a",
      "metadata": {},
      "source": [
        "Objective function is the max value between the profits derived from each plywood grade, so since profit = revenue - cost:\n",
        "\n",
        "Note: All units are in 1000 bf\n",
        "\n",
        "Revenue for each grade is simply:\n",
        "\n",
        "    P1 * 400\n",
        "\n",
        "    P2 * 520\n",
        "\n",
        "    P3 * 700\n",
        "\n",
        "    revenue = P1 * 400 + P2 * 520 + P3 * 700\n",
        "\n",
        "Cost for each grade is a bit more involved, so we know the total cost is the amount of spruce and amount of fir purchased, so:\n",
        "\n",
        "    120 * S + 80 * F \n",
        "\n",
        "However, we need to segment this to find the cost per plywood grade, here we utilize the inputs from Table 1:\n",
        "\n",
        "    P1: 0.5S + 1.5F\n",
        "\n",
        "    P2: 1.0S + 2.0F\n",
        "\n",
        "    P3: 1.5S + 2.0F\n",
        "\n",
        "So, to find how much spruce and fir is used, we simply multiple these ratios by the amount of plywood that was made:\n",
        "\n",
        "    Spruce used for plywood grade 1: 0.5*P1\n",
        "\n",
        "    Spruce used for plywood grade 2: 1.0*P2\n",
        "\n",
        "    Spruce used for plywood grade 3: 1.5*P3\n",
        "\n",
        "\n",
        "    Fir used for plywood grade 1: 1.5*P1\n",
        "\n",
        "    Fir used for plywood grade 2: 2.0*P2\n",
        "\n",
        "    Fir used for plywood grade 3: 2.0*P3\n",
        "\n",
        "This lets us put the cost in terms of our decision variables, P1, P2, and P3.\n",
        "\n",
        "Now, we return to the equation that gives the total cost of spruce and fir purchased:\n",
        "\n",
        "    S = 0.5 * P1 + 1.0 * P2 + 1.5 * P3\n",
        "\n",
        "    F = 1.5 * P1 + 2.0 * P2 + 2.0 * P3\n",
        "\n",
        "    120 * S + 80 * F \n",
        "\n",
        "    cost = 120 * (0.5 * P1 + 1.0 * P2 + 1.5 * P3) + 80 * ( 1.5 * P1 + 2.0 * P2 + 2.0 * P3)\n",
        "\n",
        "Now, we find the total profit, in terms of our decision variables:\n",
        "\n",
        "    (P1 * 400) + (P2 * 520) + ( P3 * 700) - 120 * (0.5 * P1 + 1.0 * P2 + 1.5 * P3) - 80 * ( 1.5 * P1 + 2.0 * P2 + 2.0 * P3)\n",
        "\n",
        "Rearranging it gives: \n",
        "\n",
        "    (400 * P1 - 0.5 * 120 * P1 - 1.5 * 80 * P1) + \n",
        "    (520 * P2 - 1.0 * 120 * P2 - 2.0 * 80 * P2) + \n",
        "    (700 * P3 - 1.5 * 120 * P3 - 2.0 * 80 * P3)\n",
        "\n",
        "This is our objective function.\n"
      ]
    },
    {
      "cell_type": "markdown",
      "id": "9bd0d34a-7aed-44b9-a665-80fcc1deb56b",
      "metadata": {},
      "source": [
        "#### Problem 1.3 (2 point)\n",
        "\n",
        "Derive any needed constraints. Support your function with justifications\n",
        "and/or equations as necessary. You will not receive credit just for the\n",
        "final constraints alone."
      ]
    },
    {
      "cell_type": "markdown",
      "id": "dfd0e62f",
      "metadata": {},
      "source": [
        "There is a limit to how much spruce and fir that can be purchased:\n",
        "\n",
        "    0 <= S <= 320(units:1000bf)\n",
        "\n",
        "    0 <= F <= 720(units:1000bf)\n",
        "\n",
        "And since we know spruce and fir purchased can be expressed in terms of P1, P2, and P3:\n",
        "\n",
        "    S = 0.5 * P1 + 1.0 * P2 + 1.5 * P3\n",
        "\n",
        "    F = 1.5 * P1 + 2.0 * P2 + 2.0 * P3\n",
        "\n",
        "Also, you can not make negative plywood, therefore, our constraints are:\n",
        "\n",
        "    0 <= 0.5 * P1 + 1.0 * P2 + 1.5 * P3 <= 320\n",
        "\n",
        "    0 <= 1.5 * P1 + 2.0 * P2 + 2.0 * P3 <= 720\n",
        "\n",
        "    0 <= P1\n",
        "\n",
        "    0 <= P2\n",
        "\n",
        "    0 <= P3"
      ]
    },
    {
      "cell_type": "markdown",
      "id": "b1a9dab5-6afb-4bf6-ad34-3c8979b4d07a",
      "metadata": {},
      "source": [
        "#### Problem 1.4 (1 point)\n",
        "\n",
        "Put this optimization problem in mathematical programming form. For an\n",
        "example of the syntax for this, see lines 82–91\n",
        "[here](https://github.com/vsrikrish/environmental-systems-analysis/blob/Fall23/tutorials/julia-jump.qmd)."
      ]
    },
    {
      "cell_type": "markdown",
      "id": "e6c35987",
      "metadata": {},
      "source": [
        "\\begin{equation}\n",
        "\\begin{aligned}\n",
        "& \\max_{P1, P2, P3} & (400 * P1 - 0.5 * 120 * P1 - 1.5 * 80 * P1) + \\\\\n",
        "& & (520 * P2 - 1.0 * 120 * P2 - 2.0 * 80 * P2) + \\\\\n",
        "& & (700 * P3 - 1.5 * 120 * P3 - 2.0 * 80 * P3)\\\\\n",
        "&\\text{subject to} & \\\\\n",
        "& & (0.5 * P1 + 1.0 * P2 + 1.5 * P3) \\geq 0\\\\\n",
        "& & (0.5 * P1 + 1.0 * P2 + 1.5 * P3) \\leq 320\\\\\n",
        "& & (1.5 * P1 + 2.0 * P2 + 2.0 * P3) \\geq 0 \\\\\n",
        "& & (1.5 * P1 + 2.0 * P2 + 2.0 * P3) \\leq 720\\\\\n",
        "& & P1 \\geq 0\\\\\n",
        "& & P2 \\geq 0\\\\\n",
        "& & P3 \\geq 0 \n",
        "\\end{aligned}\n",
        "\\end{equation}"
      ]
    },
    {
      "cell_type": "markdown",
      "id": "5fb9c116-3b52-46da-87a2-160f3c98676e",
      "metadata": {},
      "source": [
        "### Problem 2: Find the Solution (5 points)"
      ]
    },
    {
      "cell_type": "markdown",
      "id": "c7336df3-bd09-4437-89ad-b9c493528017",
      "metadata": {},
      "source": [
        "#### Problem 2.1 (2 points)\n",
        "\n",
        "Code your linear program using `JuMP`. Feel free to consult [the\n",
        "website’s `JuMP`\n",
        "tutorial](https://viveks.me/environmental-systems-analysis/tutorials/julia-jump.html)\n",
        "for syntax help. The keys:"
      ]
    },
    {
      "cell_type": "markdown",
      "id": "7e6cc359-c7db-4806-a007-e269c7a0bfc9",
      "metadata": {},
      "source": [
        "1.  Initialize your model with a solver; in this case, we’ll use the\n",
        "    `HiGHS` solver, but there are other solvers listed here for\n",
        "    different types of problems, some of which are open and some of\n",
        "    which require a commercial license:\n",
        "    <https://jump.dev/JuMP.jl/stable/installation/#Supported-solvers>:\n",
        "\n",
        "    ``` julia\n",
        "    example_model = Model(HiGHS.Optimizer)\n",
        "    ```\n",
        "\n",
        "2.  Define variables with syntax like\n",
        "\n",
        "    ``` julia\n",
        "    @variable(example_model, 1 >= example_x >= 0)\n",
        "    ```\n",
        "\n",
        "    This will create a variable `example_x` which is constrained to be\n",
        "    between 0 and 1; you can leave off any of the bounds if a variable\n",
        "    is unbounded in a particular direction. You can also add a vector of\n",
        "    variables:\n",
        "\n",
        "    ``` julia\n",
        "    T = 1:3 # define set to index variables\n",
        "    @variable(example_model, 1 >= example_z[t in T] >= 0)\n",
        "    ```\n",
        "\n",
        "    which will create a vector of 3 variables `example_z[1]`, …,\n",
        "    `example_z[3]`, all of which are bounded between 0 and 1.\n",
        "\n",
        "3.  Add an objective with\n",
        "\n",
        "    ``` julia\n",
        "    @objective(example_model, Max, example_x + sum(example_z))\n",
        "    ```\n",
        "\n",
        "    which will add an objective to maximize (replace with `Min` to\n",
        "    minimize).\n",
        "\n",
        "4.  Add constraints:\n",
        "\n",
        "    ``` julia\n",
        "    @constraint(example_model, constraint1, 2example_x + 3*sum(example_z) <= 10)\n",
        "    @constraint(example_model, constraint2, 5example_x - example_z[1] <= 2)\n",
        "    ```\n",
        "\n",
        "    which will name the constraints `constraint1` and `constraint2` (you\n",
        "    should make yours more descriptive about what the constraint\n",
        "    actually is). The value of adding a name is to facilitate later\n",
        "    querying of shadow prices, which we will discuss later. You can also\n",
        "    add a vector of constraints which have similar structure or rely on\n",
        "    different elements of a data vector:\n",
        "\n",
        "    ``` julia\n",
        "    A = [2; 4]\n",
        "    b = [8; 12]\n",
        "    I = 1:2 # set indices for constraint\n",
        "    @constraint(example_model, vector_constraint[i in I], A[i] * sum(example_z) .<= b[i])\n",
        "    ```\n",
        "\n",
        "    You can also define matrices of constraints which depend on two\n",
        "    index sets by generalizing this syntax, e.g.\n",
        "\n",
        "    ``` julia\n",
        "    @constraint(example_model, matrix_constraint[i in I, j in J, ...])\n",
        "    ```\n",
        "\n",
        "    > **Tip**\n",
        "    >\n",
        "    > Specifying higher-dimensional vectors and matrices of variables\n",
        "    > and constraints will be important when we start looking at more\n",
        "    > complex applications, so don’t skip over this! You don’t want to\n",
        "    > manually enter thousands of constraints to ensure hourly\n",
        "    > electricity demand is met…\n",
        "\n",
        "    Finally, you can (and probably should) `print` your model to make\n",
        "    sure that you get something that looks like the equations that you\n",
        "    wrote down (in a notebook, this will be nicely rendered):\n",
        "\n",
        "    ``` julia\n",
        "    print(example_model)\n",
        "    ```\n",
        "\n",
        "    $$ \\begin{aligned}\n",
        "    \\max\\quad & example\\_x + example\\_z_{1} + example\\_z_{2} + example\\_z_{3}\\\\\n",
        "    \\text{Subject to} \\quad & 2 example\\_x + 3 example\\_z_{1} + 3 example\\_z_{2} + 3 example\\_z_{3} \\leq 10\\\\\n",
        "     & 5 example\\_x - example\\_z_{1} \\leq 2\\\\\n",
        "     & 2 example\\_z_{1} + 2 example\\_z_{2} + 2 example\\_z_{3} \\leq 8\\\\\n",
        "     & 4 example\\_z_{1} + 4 example\\_z_{2} + 4 example\\_z_{3} \\leq 12\\\\\n",
        "     & example\\_x \\geq 0\\\\\n",
        "     & example\\_z_{1} \\geq 0\\\\\n",
        "     & example\\_z_{2} \\geq 0\\\\\n",
        "     & example\\_z_{3} \\geq 0\\\\\n",
        "     & example\\_x \\leq 1\\\\\n",
        "     & example\\_z_{1} \\leq 1\\\\\n",
        "     & example\\_z_{2} \\leq 1\\\\\n",
        "     & example\\_z_{3} \\leq 1\\\\\n",
        "    \\end{aligned} $$\n",
        "\n",
        "    > **Define your entire model in one cell**\n",
        "    >\n",
        "    > `JuMP` has great and intuitive syntax, but it doesn’t like\n",
        "    > re-defining variables or constraints once they’ve been set. I\n",
        "    > recommend putting all of your model-definition code (starting from\n",
        "    > `model = Model(...)`) for a particular optimization problem in a\n",
        "    > single notebook cell, so you can re-set up the entire problem with\n",
        "    > a single click when you want to make a change."
      ]
    },
    {
      "cell_type": "code",
      "execution_count": 3,
      "id": "2fd20c4a",
      "metadata": {},
      "outputs": [
        {
          "name": "stdout",
          "output_type": "stream",
          "text": [
            "Max 220 P1 + 240 P2 + 360 P3\n",
            "Subject to\n",
            " "
          ]
        },
        {
          "name": "stdout",
          "output_type": "stream",
          "text": [
            "constraintS : -0.5 P1 - P2 - 1.5 P3 ≥ -320\n",
            " constraintF : -1.5 P1 - 2 P2 - 2 P3 ≥ -720\n",
            " P1 ≥ 0\n",
            " P2 ≥ 0\n",
            " P3 ≥ 0\n",
            "\n"
          ]
        }
      ],
      "source": [
        "plywood_model = Model(HiGHS.Optimizer)\n",
        "\n",
        "@variable(plywood_model, P1 >= 0)\n",
        "@variable(plywood_model, P2 >= 0)\n",
        "@variable(plywood_model, P3 >= 0)\n",
        "\n",
        "@constraint(plywood_model, constraintS,\n",
        "    320 >= 0.5 * P1 + 1 * P2 + 1.5 * P3)\n",
        "\n",
        "@constraint(plywood_model, constraintF,\n",
        "    720 >= 1.5 * P1 + 2.0 * P2 + 2.0 * P3)\n",
        "\n",
        "@objective(plywood_model, Max,\n",
        "    400 * P1 - 0.5 * 120 * P1 - 1.5 * 80 * P1 +\n",
        "    520 * P2 - 1.0 * 120 * P2 - 2.0 * 80 * P2 +\n",
        "    700 * P3 - 1.5 * 120 * P3 - 2.0 * 80 * P3)\n",
        "\n",
        "println(plywood_model)"
      ]
    },
    {
      "cell_type": "markdown",
      "id": "de5ff570-e9ee-40c2-8784-2633d1a4dc0c",
      "metadata": {},
      "source": [
        "#### Problem 2.2 (1 points)\n",
        "\n",
        "Find the solution to your program and find the optimal values of the\n",
        "decision variables. Once you’ve defined your model, you can find the\n",
        "solution with \\`optimize!():"
      ]
    },
    {
      "cell_type": "code",
      "execution_count": 4,
      "id": "5ccbe21b",
      "metadata": {},
      "outputs": [
        {
          "name": "stdout",
          "output_type": "stream",
          "text": [
            "Running HiGHS 1.5.3 [date: 1970-01-01, git hash: 45a127b78]\n",
            "Copyright (c) 2023 HiGHS under MIT licence terms\n",
            "Presolving model\n",
            "2 rows, 3 cols, 6 nonzeros\n",
            "2 rows, 3 cols, 6 nonzeros\n",
            "Presolve : Reductions: rows 2(-0); columns 3(-0); elements 6(-0) - Not reduced\n",
            "Problem not reduced by presolve: solving the LP\n",
            "Using EKK dual simplex solver - serial\n",
            "  Iteration        Objective     Infeasibilities num(sum)\n",
            "          0    -8.1999929744e+02 Ph1: 2(8.5); Du: 3(819.999) 0s\n",
            "          2     1.1200000000e+05 Pr: 0(0) 0s\n",
            "Model   status      : Optimal\n",
            "Simplex   iterations: 2\n",
            "Objective value     :  1.1200000000e+05\n",
            "HiGHS run time      :          0.00\n"
          ]
        }
      ],
      "source": [
        "optimize!(plywood_model)"
      ]
    },
    {
      "cell_type": "markdown",
      "id": "addb8efe-09e7-45cf-8e0d-e78a4f8f4397",
      "metadata": {},
      "source": [
        "> **What if I Get An Error?**\n",
        ">\n",
        "> If `optimize!()` throws an error, that’s usually a sign that something\n",
        "> is wrong with the formulation (for example, a variable might not be\n",
        "> bounded or a constraint might not be specified correctly) or a typo in\n",
        "> the model definition. Linear programs should be well behaved!\n",
        "\n",
        "To find the values of variables after optimizing, use `value.()` (the\n",
        "broadcasting ensures this will work for vector-valued variables as\n",
        "well):"
      ]
    },
    {
      "cell_type": "code",
      "execution_count": 5,
      "id": "db9b4ff1",
      "metadata": {},
      "outputs": [
        {
          "name": "stdout",
          "output_type": "stream",
          "text": [
            "Plywood Grade 1: 352.0 1000bf\n",
            "Plywood Grade 2: 0.0 1000bf\n",
            "Plywood Grade 3: 96.0 1000bf\n"
          ]
        },
        {
          "name": "stdout",
          "output_type": "stream",
          "text": [
            "Profit: $112000.0\n"
          ]
        }
      ],
      "source": [
        "# round to avoid float value errors: \n",
        "#   P1 = 352.00000000000006\n",
        "#   P2 = 0.0\n",
        "#   P3 = 95.99999999999999\n",
        "println(\"Plywood Grade 1: \", round(value.(P1)), \" 1000bf\")\n",
        "println(\"Plywood Grade 2: \", round(value.(P2)), \" 1000bf\")\n",
        "println(\"Plywood Grade 3: \", round(value.(P3)), \" 1000bf\")\n",
        "println(\"Profit: \\$\", objective_value(plywood_model))"
      ]
    },
    {
      "cell_type": "markdown",
      "id": "7e141d56-9965-499c-a1d6-9fbc565f3abc",
      "metadata": {},
      "source": [
        "#### Problem 2.3 (1 point)\n",
        "\n",
        "How would your profit change if you could buy 1,000 additional bf of\n",
        "spruce? You can answer this by getting the shadow price of a particular\n",
        "variable with:"
      ]
    },
    {
      "cell_type": "code",
      "execution_count": 16,
      "id": "c969ed7f",
      "metadata": {},
      "outputs": [
        {
          "name": "stdout",
          "output_type": "stream",
          "text": [
            "Profit would increase by $80.0 if 1000 additional bf of spruce could be purchased\n"
          ]
        }
      ],
      "source": [
        "# this is why we named the constraints when we defined them\n",
        "shadowPriceS = shadow_price(constraintS)\n",
        "println(\"Profit would increase by \\$\", shadowPriceS,\n",
        "    \" if 1000 additional bf of spruce could be purchased\")"
      ]
    },
    {
      "cell_type": "markdown",
      "id": "0f60ecb1-3610-434e-af1f-02b19850827b",
      "metadata": {},
      "source": [
        "#### Problem 2.4 (1 point)\n",
        "\n",
        "Would you prefer to have 2,000 additional bf of spruce or 1,000\n",
        "additional bf of fir?"
      ]
    },
    {
      "cell_type": "code",
      "execution_count": 15,
      "id": "a3cc167b",
      "metadata": {},
      "outputs": [
        {
          "name": "stdout",
          "output_type": "stream",
          "text": [
            "Profit increase if purchased 2000 additional bf of spruce: $160.0\n",
            "Profit increase if purchased 1000 additional bf of fir: $120.0\n",
            "\n",
            "I would prefer to purchase 2000 additional bf of spruce, as it \n",
            "    gives $40 more profit than if I purchased 1000 additional bf of fir\n"
          ]
        }
      ],
      "source": [
        "shadowPriceF = shadow_price(constraintF)\n",
        "\n",
        "# shadow price shows how profit would change in constraint was realxed by \n",
        "#   one unit (1 unit = 1000 bf), therefore 2000 additinoal bf is double \n",
        "#   the shadow price\n",
        "println(\"Profit increase if purchased 2000 additional bf of spruce: \\$\",\n",
        "    2 * shadowPriceS)\n",
        "println(\"Profit increase if purchased 1000 additional bf of fir: \\$\",\n",
        "    shadowPriceF)\n",
        "\n",
        "println(\"\\nI would prefer to purchase 2000 additional bf of spruce, as it \n",
        "    gives \\$40 more profit than if I purchased 1000 additional bf of fir\")\n"
      ]
    },
    {
      "cell_type": "markdown",
      "id": "3931edc3-ebed-40fa-abc1-8611323d2dac",
      "metadata": {},
      "source": [
        "## References\n",
        "\n",
        "Put any consulted sources here, including classmates you worked with/who\n",
        "helped you."
      ]
    }
  ],
  "metadata": {
    "kernelspec": {
      "display_name": "Julia 1.9.2",
      "language": "julia",
      "name": "julia-1.9"
    },
    "language_info": {
      "file_extension": ".jl",
      "mimetype": "application/julia",
      "name": "julia",
      "version": "1.9.2"
    }
  },
  "nbformat": 4,
  "nbformat_minor": 5
}
